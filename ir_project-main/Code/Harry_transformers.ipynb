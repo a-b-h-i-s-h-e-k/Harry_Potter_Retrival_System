{
 "cells": [
  {
   "cell_type": "markdown",
   "metadata": {},
   "source": [
    "# Harry Potter corpus with transformers\n",
    "\n",
    "This notebook explores an advanced approach to text analysis using transformer models. We aim to leverage state-of-the-art techniques to extract meaningful insights from a Harry Potter-themed text corpus. \n",
    "\n",
    "## Objectives:\n",
    "1. **Embedding Generation**: Utilize the `all-MiniLM-L6-v2` transformer model from HuggingFace to create embeddings for the text corpus.\n",
    "2. **Inverted Index Construction**: Build an inverted index for efficient text retrieval.\n",
    "3. **Similarity Computation**: Employ cosine similarity to evaluate query-to-document relationships.\n",
    "4. **Interactive Search Application**: Integrate the developed system into an interactive app.\n"
   ]
  },
  {
   "cell_type": "code",
   "execution_count": 1,
   "metadata": {},
   "outputs": [],
   "source": [
    "import pandas as pd\n",
    "import re\n",
    "from transformers import AutoTokenizer, AutoModel\n",
    "import torch\n",
    "from sklearn.metrics.pairwise import cosine_similarity\n",
    "from sklearn.feature_extraction.text import TfidfVectorizer"
   ]
  },
  {
   "cell_type": "code",
   "execution_count": 6,
   "metadata": {},
   "outputs": [],
   "source": [
    "hp1 = pd.read_csv('Harry Potter 1.csv', delimiter=';', encoding='latin1')\n",
    "corpus = hp1['Sentence'].tolist()  # Defining the corpus as a list of sentences"
   ]
  },
  {
   "cell_type": "code",
   "execution_count": 20,
   "metadata": {},
   "outputs": [],
   "source": [
    "hp2 = pd.read_csv('Harry Potter 2.csv', delimiter=';', encoding='latin1')\n",
    "hp2.rename(columns={'Sentence,,,,,,': 'Sentence'}, inplace=True)\n",
    "\n",
    "corpus = hp2['Sentence'].tolist()  # Defining the corpus as a list of sentences"
   ]
  },
  {
   "cell_type": "code",
   "execution_count": 36,
   "metadata": {},
   "outputs": [],
   "source": [
    "hp3 = pd.read_csv('Harry Potter 3.csv', delimiter=';', encoding='latin1')\n",
    "#hp3.rename(columns={'SENTENCE': 'Sentence'}, inplace=True)\n",
    "\n",
    "corpus = hp3['SENTENCE'].tolist()  # Defining the corpus as a list of sentences"
   ]
  },
  {
   "cell_type": "code",
   "execution_count": 33,
   "metadata": {},
   "outputs": [],
   "source": [
    "# Step 3: Load the Sentence Transformer Model\n",
    "# This model will be used to transform sentences in the corpus into embeddings:\n",
    "\n",
    "\n",
    "from sentence_transformers import SentenceTransformer\n",
    "\n",
    "model = SentenceTransformer('sentence-transformers/all-MiniLM-L6-v2')"
   ]
  },
  {
   "cell_type": "code",
   "execution_count": 37,
   "metadata": {},
   "outputs": [],
   "source": [
    "# Step 4: Encode the Corpus into Embeddings\n",
    "# Transform each sentence in the corpus into a high-dimensional vector:\n",
    "\n",
    "\n",
    "embeddings = model.encode(corpus)"
   ]
  },
  {
   "cell_type": "code",
   "execution_count": 38,
   "metadata": {},
   "outputs": [],
   "source": [
    "# Step 5: Build an Inverted Index\n",
    "# An inverted index will facilitate quick look-ups by keywords found in the corpus:\n",
    "\n",
    "from sklearn.feature_extraction.text import CountVectorizer\n",
    "\n",
    "vectorizer = CountVectorizer(stop_words='english')\n",
    "matrix = vectorizer.fit_transform(corpus)\n",
    "features = vectorizer.get_feature_names_out()\n",
    "\n",
    "# Create the inverted index\n",
    "inverted_index = {}\n",
    "for i, word in enumerate(features):\n",
    "    indices = matrix[:, i].nonzero()[0]\n",
    "    inverted_index[word] = list(indices)"
   ]
  },
  {
   "cell_type": "code",
   "execution_count": 39,
   "metadata": {},
   "outputs": [],
   "source": [
    "# Step 6: Define a Function for Cosine Similarity Searches\n",
    "# This function will rank sentences in the corpus based on their semantic similarity to the query:\n",
    "\n",
    "\n",
    "from sklearn.metrics.pairwise import cosine_similarity\n",
    "import numpy as np\n",
    "\n",
    "def find_similar_sentences(query, embeddings, corpus, top_k=5):\n",
    "    query_embedding = model.encode([query])\n",
    "    similarities = cosine_similarity(query_embedding, embeddings)[0]\n",
    "    top_indices = np.argsort(similarities)[::-1][:top_k]\n",
    "    return [(corpus[i], similarities[i]) for i in top_indices]"
   ]
  },
  {
   "cell_type": "code",
   "execution_count": 40,
   "metadata": {},
   "outputs": [],
   "source": [
    "# Step 7: Search Function Using the Inverted Index\n",
    "# This function first finds relevant documents using the inverted index and then ranks them using cosine similarity:\n",
    "\n",
    "\n",
    "def search_query(query):\n",
    "    query_words = query.lower().split()\n",
    "    relevant_docs = set()\n",
    "    for word in query_words:\n",
    "        if word in inverted_index:\n",
    "            relevant_docs.update(inverted_index[word])\n",
    "\n",
    "    relevant_corpus = [corpus[i] for i in relevant_docs]\n",
    "    relevant_embeddings = [embeddings[i] for i in relevant_docs]\n",
    "\n",
    "    if relevant_embeddings:\n",
    "        return find_similar_sentences(query, np.array(relevant_embeddings), relevant_corpus)\n",
    "    else:\n",
    "        return \"No relevant sentences found.\""
   ]
  },
  {
   "cell_type": "code",
   "execution_count": 41,
   "metadata": {},
   "outputs": [
    {
     "name": "stdout",
     "output_type": "stream",
     "text": [
      "[('Harry Potter', np.float32(0.75656706)), ('Harry Potter.', np.float32(0.7229435)), ('Harry Potter.', np.float32(0.7229435)), ('Potter.', np.float32(0.7177903)), ('Harry Potter?', np.float32(0.713891))]\n"
     ]
    }
   ],
   "source": [
    "# Step 8: Execute a Query\n",
    "# Run a search to see how the system performs:\n",
    "\n",
    "\n",
    "query = \"Harry Potter and the Philosopher's Stone\"\n",
    "result = search_query(query)\n",
    "print(result)"
   ]
  },
  {
   "cell_type": "code",
   "execution_count": 42,
   "metadata": {},
   "outputs": [
    {
     "name": "stdout",
     "output_type": "stream",
     "text": [
      "[('Harry Potter', np.float32(1.0000001)), ('Harry Potter.', np.float32(0.96186876)), ('Harry Potter.', np.float32(0.96186876)), ('Harry Potter?', np.float32(0.881592)), ('Potter.', np.float32(0.86562777))]\n"
     ]
    }
   ],
   "source": [
    "\n",
    "query = \"Harry Potter\"\n",
    "result = search_query(query)\n",
    "print(result)"
   ]
  },
  {
   "cell_type": "code",
   "execution_count": 43,
   "metadata": {},
   "outputs": [
    {
     "name": "stdout",
     "output_type": "stream",
     "text": [
      "[('Professor McGonagall!', np.float32(0.828662)), ('McGonagall gave it to me first term.', np.float32(0.697512)), (\"He won't keep it. He'll turn it over to Professor McGonagall. Aren't you?\", np.float32(0.5410545))]\n"
     ]
    }
   ],
   "source": [
    "query = \"McGonagall\"\n",
    "result = search_query(query)\n",
    "print(result)"
   ]
  },
  {
   "cell_type": "code",
   "execution_count": 44,
   "metadata": {},
   "outputs": [
    {
     "name": "stdout",
     "output_type": "stream",
     "text": [
      "[('Hedwig.', np.float32(0.9656972)), ('Hedwig.', np.float32(0.9656972))]\n"
     ]
    }
   ],
   "source": [
    "query = \"Hedwig\"\n",
    "result = search_query(query)\n",
    "print(result)"
   ]
  },
  {
   "cell_type": "markdown",
   "metadata": {},
   "source": [
    "## The procedure to run the app\n",
    "\n",
    "- conda install -n harry ipywidgets\n",
    "- pip install pandas scikit-learn sentence-transformers\n",
    "- pip install nltk\n",
    "- python=3.11\n",
    "- pip install flask\n",
    "- python app.py(to run the app)"
   ]
  }
 ],
 "metadata": {
  "kernelspec": {
   "display_name": "base",
   "language": "python",
   "name": "python3"
  },
  "language_info": {
   "codemirror_mode": {
    "name": "ipython",
    "version": 3
   },
   "file_extension": ".py",
   "mimetype": "text/x-python",
   "name": "python",
   "nbconvert_exporter": "python",
   "pygments_lexer": "ipython3",
   "version": "3.11.5"
  }
 },
 "nbformat": 4,
 "nbformat_minor": 2
}
